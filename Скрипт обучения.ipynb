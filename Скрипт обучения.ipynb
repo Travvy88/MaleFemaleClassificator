{
 "cells": [
  {
   "cell_type": "markdown",
   "metadata": {},
   "source": [
    "# Preprocessing"
   ]
  },
  {
   "cell_type": "code",
   "execution_count": 3,
   "metadata": {
    "colab": {},
    "colab_type": "code",
    "id": "eSYJ9soe6atf"
   },
   "outputs": [],
   "source": [
    "data_dir = ''  # ссылка на папку internship_data\n",
    "# если поместить ноутбук в intership_data, то оставить пустую строку"
   ]
  },
  {
   "cell_type": "code",
   "execution_count": 1,
   "metadata": {
    "colab": {},
    "colab_type": "code",
    "id": "ymd4QgET5dyG"
   },
   "outputs": [],
   "source": [
    "import os\n",
    "import pandas as pd\n",
    "import numpy as np\n",
    "from tqdm import tqdm"
   ]
  },
  {
   "cell_type": "code",
   "execution_count": 2,
   "metadata": {},
   "outputs": [],
   "source": [
    "def create_csv(data_dir):\n",
    "    \"\"\"\n",
    "    Вход: директория с датасетом (папка intership_data)\n",
    "    Выход: csv таблица с путями файлов и классами\n",
    "    \"\"\"\n",
    "    files = []\n",
    "    labels = []\n",
    "    male_listdir = os.listdir(os.path.join(data_dir, 'male'))\n",
    "    female_listdir = os.listdir(os.path.join(data_dir, 'female'))\n",
    "    \n",
    "    for el in male_listdir:\n",
    "        if el[-3:] == 'jpg':\n",
    "            files.append('male/' + el)\n",
    "            labels.append(0)\n",
    "    \n",
    "    for el in female_listdir:\n",
    "        if el[-3:] == 'jpg':\n",
    "            files.append('female/' + el)\n",
    "            labels.append(1)\n",
    "\n",
    "    data = pd.DataFrame() \n",
    "\n",
    "    labels = pd.Series(labels, name='label')\n",
    "    paths = pd.Series(files, name='path')\n",
    "    data = pd.concat((data, paths, labels), axis=1)\n",
    "\n",
    "    data = data.sample(frac=1).reset_index(drop=True)  # перемешиваем данные\n",
    "    data.to_csv(os.path.join(data_dir, 'data.csv'), index=False)  # сохраняем таблицу\n",
    "    \n",
    "    return data"
   ]
  },
  {
   "cell_type": "code",
   "execution_count": 4,
   "metadata": {},
   "outputs": [
    {
     "data": {
      "text/html": [
       "<div>\n",
       "<style scoped>\n",
       "    .dataframe tbody tr th:only-of-type {\n",
       "        vertical-align: middle;\n",
       "    }\n",
       "\n",
       "    .dataframe tbody tr th {\n",
       "        vertical-align: top;\n",
       "    }\n",
       "\n",
       "    .dataframe thead th {\n",
       "        text-align: right;\n",
       "    }\n",
       "</style>\n",
       "<table border=\"1\" class=\"dataframe\">\n",
       "  <thead>\n",
       "    <tr style=\"text-align: right;\">\n",
       "      <th></th>\n",
       "      <th>path</th>\n",
       "      <th>label</th>\n",
       "    </tr>\n",
       "  </thead>\n",
       "  <tbody>\n",
       "    <tr>\n",
       "      <th>0</th>\n",
       "      <td>female/100684.jpg</td>\n",
       "      <td>1</td>\n",
       "    </tr>\n",
       "    <tr>\n",
       "      <th>1</th>\n",
       "      <td>male/022461.jpg</td>\n",
       "      <td>0</td>\n",
       "    </tr>\n",
       "    <tr>\n",
       "      <th>2</th>\n",
       "      <td>male/114814.jpg</td>\n",
       "      <td>0</td>\n",
       "    </tr>\n",
       "    <tr>\n",
       "      <th>3</th>\n",
       "      <td>male/107015.jpg</td>\n",
       "      <td>0</td>\n",
       "    </tr>\n",
       "    <tr>\n",
       "      <th>4</th>\n",
       "      <td>female/075438.jpg</td>\n",
       "      <td>1</td>\n",
       "    </tr>\n",
       "    <tr>\n",
       "      <th>...</th>\n",
       "      <td>...</td>\n",
       "      <td>...</td>\n",
       "    </tr>\n",
       "    <tr>\n",
       "      <th>99997</th>\n",
       "      <td>female/048088.jpg</td>\n",
       "      <td>1</td>\n",
       "    </tr>\n",
       "    <tr>\n",
       "      <th>99998</th>\n",
       "      <td>female/006147.jpg</td>\n",
       "      <td>1</td>\n",
       "    </tr>\n",
       "    <tr>\n",
       "      <th>99999</th>\n",
       "      <td>male/048992.jpg</td>\n",
       "      <td>0</td>\n",
       "    </tr>\n",
       "    <tr>\n",
       "      <th>100000</th>\n",
       "      <td>female/112241.jpg</td>\n",
       "      <td>1</td>\n",
       "    </tr>\n",
       "    <tr>\n",
       "      <th>100001</th>\n",
       "      <td>male/050678.jpg</td>\n",
       "      <td>0</td>\n",
       "    </tr>\n",
       "  </tbody>\n",
       "</table>\n",
       "<p>100002 rows × 2 columns</p>\n",
       "</div>"
      ],
      "text/plain": [
       "                     path  label\n",
       "0       female/100684.jpg      1\n",
       "1         male/022461.jpg      0\n",
       "2         male/114814.jpg      0\n",
       "3         male/107015.jpg      0\n",
       "4       female/075438.jpg      1\n",
       "...                   ...    ...\n",
       "99997   female/048088.jpg      1\n",
       "99998   female/006147.jpg      1\n",
       "99999     male/048992.jpg      0\n",
       "100000  female/112241.jpg      1\n",
       "100001    male/050678.jpg      0\n",
       "\n",
       "[100002 rows x 2 columns]"
      ]
     },
     "execution_count": 4,
     "metadata": {},
     "output_type": "execute_result"
    }
   ],
   "source": [
    "create_csv(data_dir)"
   ]
  },
  {
   "cell_type": "code",
   "execution_count": 5,
   "metadata": {
    "colab": {},
    "colab_type": "code",
    "id": "th8rjp0YE_yZ"
   },
   "outputs": [],
   "source": [
    "df = pd.read_csv(os.path.join(data_dir, 'data.csv'))\n",
    "X = df.path.values\n",
    "y = df.label.values"
   ]
  },
  {
   "cell_type": "code",
   "execution_count": 6,
   "metadata": {
    "colab": {},
    "colab_type": "code",
    "id": "_5bLD9OWFX3J"
   },
   "outputs": [],
   "source": [
    "ix = np.random.choice(len(X), len(X), False)\n",
    "tr, val, ts = np.split(ix, [70000, 85000])  # разбиваем датасет: 70 000 train, по 15 000 val и test\n",
    "\n",
    "X_train, y_train = X[tr], y[tr]\n",
    "X_val, y_val = X[val], y[val]\n",
    "X_test, y_test = X[ts], y[ts]"
   ]
  },
  {
   "cell_type": "code",
   "execution_count": 7,
   "metadata": {
    "colab": {
     "base_uri": "https://localhost:8080/",
     "height": 35
    },
    "colab_type": "code",
    "id": "1Bb399pfHLgf",
    "outputId": "6fcfc6ef-ef5d-4a99-eb48-24f73b977122"
   },
   "outputs": [
    {
     "data": {
      "text/plain": [
       "'cuda:0'"
      ]
     },
     "execution_count": 7,
     "metadata": {},
     "output_type": "execute_result"
    }
   ],
   "source": [
    "import torch\n",
    "import albumentations\n",
    "import matplotlib.pyplot as plt\n",
    "import torch.nn as nn\n",
    "import torch.optim as optim\n",
    "from PIL import Image\n",
    "from tqdm import tqdm\n",
    "from torchvision import models as models\n",
    "from torch.utils.data import Dataset, DataLoader\n",
    "\n",
    "device = ('cuda:0' if torch.cuda.is_available() else 'cpu')  # включаем поддержку GPU\n",
    "device"
   ]
  },
  {
   "cell_type": "code",
   "execution_count": 8,
   "metadata": {
    "colab": {},
    "colab_type": "code",
    "id": "DfVpxJ9fFj2x"
   },
   "outputs": [],
   "source": [
    "class FaceDataset(Dataset):\n",
    "    \"\"\"\n",
    "    Итерируемый класс датасета. С помощью него мы можем обращаться к данным как к итерируемому объекту. \n",
    "    \"\"\"\n",
    "    def __init__(self, path, labels, data_dir):\n",
    "        \"\"\"\n",
    "        path - пути к фото\n",
    "        labels - классы\n",
    "        data_dir - путь к директории датасета\n",
    "        \"\"\"\n",
    "        self.X = path\n",
    "        self.y = labels\n",
    "        self.data_dir = data_dir\n",
    "        self.aug = albumentations.Compose([\n",
    "            albumentations.Resize(224, 224, always_apply=True),\n",
    "            albumentations.Normalize(mean=[0.485, 0.456, 0.406],\n",
    "                      std=[0.229, 0.224, 0.225], always_apply=True)\n",
    "        ])  # ресайз и нормализация к ImageNet\n",
    "       \n",
    "    def __len__(self):\n",
    "        return (len(self.X))\n",
    "    \n",
    "    def __getitem__(self, i):\n",
    "        \"\"\"\n",
    "        Вход: индекс\n",
    "        Выход: соответствующее индексу фото и класс в формате torch.tensor \n",
    "        \"\"\"\n",
    "        image = Image.open(os.path.join(self.data_dir, self.X[i]))  # загружаем фото в RAM\n",
    "        image = self.aug(image=np.array(image))['image']  # редактируем\n",
    "        image = np.transpose(image, (2, 0, 1)).astype(np.float32)  # меняем каналы под формат pytorch (channels, H, W)\n",
    "        label = self.y[i]\n",
    "        return torch.tensor(image, dtype=torch.float), torch.tensor(label, dtype=torch.long)"
   ]
  },
  {
   "cell_type": "code",
   "execution_count": 9,
   "metadata": {
    "colab": {},
    "colab_type": "code",
    "id": "4_zMqwkYHiKh"
   },
   "outputs": [],
   "source": [
    "train_data = FaceDataset(X_train, y_train, data_dir)\n",
    "val_data = FaceDataset(X_val, y_val, data_dir)\n",
    "test_data = FaceDataset(X_test, y_test, data_dir)\n",
    " \n",
    "# dataloaders - с помощью нашего класса датасета сэмплируют данные в батчи\n",
    "BATCH_SIZE = 100\n",
    "trainloader = DataLoader(train_data, batch_size=BATCH_SIZE, shuffle=True)  \n",
    "valloader = DataLoader(val_data, batch_size=BATCH_SIZE, shuffle=False)\n",
    "testloader = DataLoader(test_data, batch_size=BATCH_SIZE, shuffle=False)"
   ]
  },
  {
   "cell_type": "markdown",
   "metadata": {
    "colab_type": "text",
    "id": "-p9FxBslKFmD"
   },
   "source": [
    "# Model"
   ]
  },
  {
   "cell_type": "code",
   "execution_count": 10,
   "metadata": {
    "colab": {
     "base_uri": "https://localhost:8080/",
     "height": 103,
     "referenced_widgets": [
      "938386687d6340dbbabed65b8ca774fd",
      "dfe3f06a63624757a0fd03f7bd68bfd8",
      "55d71f09845a411da00ffa109664874a",
      "b3c5f11a6c354b138cd5b8e4577971a2",
      "50df43c719c44f3cb1b1484c9b1ad716",
      "5ffd57fa282345ef8ce0289fe07abd33",
      "a3b55fad1c81425fb29711aeb5bce5bc",
      "ba025fb250bd40ea9a22b60fc6f377ea"
     ]
    },
    "colab_type": "code",
    "id": "tkBLN7FvIApJ",
    "outputId": "a6819e4c-4ca7-4575-ff5c-d328a41627ce"
   },
   "outputs": [],
   "source": [
    "net = models.resnet18(pretrained=True).to(device)  # загружаем предобученную на ImageNet resnet18 сразу на GPU\n",
    "net.fc = nn.Linear(512, 2).to(device)  # ставим выходной слой на 2 класса\n",
    "\n",
    "for param in net.parameters():\n",
    "    param.requires_grad = False  # выключаем градиенты по всей сети\n",
    "    \n",
    "for param in net.fc.parameters():  # включаем последний слой (классификатор)\n",
    "    param.requires_grad = True\n",
    "    \n",
    "for param in net.layer4.parameters():  # включаем 4, 3 и 2 слои\n",
    "    param.requires_grad = True\n",
    "    \n",
    "for param in net.layer3.parameters():\n",
    "    param.requires_grad = True\n",
    "    \n",
    "for param in net.layer2.parameters():\n",
    "    param.requires_grad = True"
   ]
  },
  {
   "cell_type": "code",
   "execution_count": 11,
   "metadata": {
    "colab": {},
    "colab_type": "code",
    "id": "ki5Un9x4KSwX"
   },
   "outputs": [],
   "source": [
    "from sklearn.metrics import accuracy_score"
   ]
  },
  {
   "cell_type": "code",
   "execution_count": 12,
   "metadata": {
    "colab": {},
    "colab_type": "code",
    "id": "p9HevQgLKI27"
   },
   "outputs": [],
   "source": [
    "def train(model, device, loss_fn, optimizer, train_loader, val_loader, num_epoch):\n",
    "    train_losses = []\n",
    "    test_losses = []\n",
    "    accuracy = []\n",
    "\n",
    "    for i in range(num_epoch):\n",
    "        epoch_train_losses = []\n",
    "        model.train(True)\n",
    "        for X_train, y_train in tqdm(train_loader):\n",
    "            # Посчитаем предсказание и лосс\n",
    "            X_train = X_train.to(device)\n",
    "            y_train = y_train.to(device)\n",
    "            y_pred = model(X_train)\n",
    "            loss = loss_fn(y_pred, y_train)\n",
    "\n",
    "            # зануляем градиент\n",
    "            optimizer.zero_grad()\n",
    "\n",
    "            # backward\n",
    "            loss.backward()\n",
    "\n",
    "            # ОБНОВЛЯЕМ веса\n",
    "            optimizer.step()\n",
    "\n",
    "            # Запишем число (не тензор) в наши батчевые лоссы\n",
    "            epoch_train_losses.append(loss.item())   \n",
    "                    \n",
    "        train_losses.append(np.mean(epoch_train_losses))\n",
    "        \n",
    "        # Теперь посчитаем лосс на вал\n",
    "        model.eval()\n",
    "        with torch.no_grad():\n",
    "            epoch_test_losses = []\n",
    "            epoch_accuracy = []\n",
    "            for X_val, y_val in val_loader:\n",
    "                X_val, y_val = X_val.to(device), y_val.to(device)\n",
    "                y_pred = model(X_val)\n",
    "                loss = loss_fn(y_pred, y_val)\n",
    "            \n",
    "                epoch_test_losses.append(loss.item())\n",
    "                epoch_accuracy.append(accuracy_score(y_pred.cpu().max(1)[1], y_val.cpu()))\n",
    "\n",
    "            test_losses.append(np.mean(epoch_test_losses))\n",
    "            accuracy.append(np.mean(epoch_accuracy))\n",
    "            \n",
    "            torch.save(model.state_dict(), f'epoch_{i}.pth')  # сохраняем веса эпох\n",
    "\n",
    "            print(\n",
    "                'Train loss =', train_losses[-1],\n",
    "                'Val loss =', test_losses[-1],\n",
    "                'Val accuracy =', accuracy[-1]\n",
    "            )\n",
    "            \n",
    "    return train_losses, test_losses, accuracy"
   ]
  },
  {
   "cell_type": "code",
   "execution_count": 75,
   "metadata": {
    "colab": {},
    "colab_type": "code",
    "id": "66ym1T68L0Si"
   },
   "outputs": [],
   "source": [
    "optimizer = optim.AdamW(net.parameters(), amsgrad=True)  \n",
    "criterion = nn.CrossEntropyLoss()"
   ]
  },
  {
   "cell_type": "code",
   "execution_count": 76,
   "metadata": {
    "colab": {
     "base_uri": "https://localhost:8080/",
     "height": 340
    },
    "colab_type": "code",
    "id": "YYxNJZMiMNeg",
    "outputId": "60433e8c-3e5c-473c-cc93-72f87c5678f2"
   },
   "outputs": [
    {
     "name": "stderr",
     "output_type": "stream",
     "text": [
      "100%|████████████████████████████████████████████████████████████████████████████████| 700/700 [10:22<00:00,  1.12it/s]\n",
      "  0%|                                                                                          | 0/700 [00:00<?, ?it/s]"
     ]
    },
    {
     "name": "stdout",
     "output_type": "stream",
     "text": [
      "Train loss = 0.0895881350032453 Val loss = 0.07342546665420135 Val accuracy = 0.9721999999999998\n"
     ]
    },
    {
     "name": "stderr",
     "output_type": "stream",
     "text": [
      "100%|████████████████████████████████████████████████████████████████████████████████| 700/700 [09:59<00:00,  1.17it/s]\n",
      "  0%|                                                                                          | 0/700 [00:00<?, ?it/s]"
     ]
    },
    {
     "name": "stdout",
     "output_type": "stream",
     "text": [
      "Train loss = 0.05115799827634224 Val loss = 0.06463806412182749 Val accuracy = 0.9759333333333332\n"
     ]
    },
    {
     "name": "stderr",
     "output_type": "stream",
     "text": [
      "100%|████████████████████████████████████████████████████████████████████████████████| 700/700 [10:06<00:00,  1.15it/s]\n",
      "  0%|                                                                                          | 0/700 [00:00<?, ?it/s]"
     ]
    },
    {
     "name": "stdout",
     "output_type": "stream",
     "text": [
      "Train loss = 0.03781166674319788 Val loss = 0.06056917899288237 Val accuracy = 0.9782000000000001\n"
     ]
    },
    {
     "name": "stderr",
     "output_type": "stream",
     "text": [
      "100%|████████████████████████████████████████████████████████████████████████████████| 700/700 [08:45<00:00,  1.33it/s]\n",
      "  0%|                                                                                          | 0/700 [00:00<?, ?it/s]"
     ]
    },
    {
     "name": "stdout",
     "output_type": "stream",
     "text": [
      "Train loss = 0.02467738921986893 Val loss = 0.05527400261024013 Val accuracy = 0.9813333333333333\n"
     ]
    },
    {
     "name": "stderr",
     "output_type": "stream",
     "text": [
      "100%|████████████████████████████████████████████████████████████████████████████████| 700/700 [08:46<00:00,  1.33it/s]\n",
      "  0%|                                                                                          | 0/700 [00:00<?, ?it/s]"
     ]
    },
    {
     "name": "stdout",
     "output_type": "stream",
     "text": [
      "Train loss = 0.01887604011522074 Val loss = 0.07049495521389569 Val accuracy = 0.9779333333333333\n"
     ]
    },
    {
     "name": "stderr",
     "output_type": "stream",
     "text": [
      "100%|████████████████████████████████████████████████████████████████████████████████| 700/700 [09:23<00:00,  1.24it/s]\n"
     ]
    },
    {
     "name": "stdout",
     "output_type": "stream",
     "text": [
      "Train loss = 0.012060609979619455 Val loss = 0.07070747592719272 Val accuracy = 0.9811999999999999\n"
     ]
    }
   ],
   "source": [
    "train_losses, val_losses, accuracy = train(net, device, criterion, optimizer, trainloader, valloader, 6)"
   ]
  },
  {
   "cell_type": "code",
   "execution_count": 82,
   "metadata": {},
   "outputs": [
    {
     "data": {
      "image/png": "[encoded data removed]",
      "text/plain": [
       "<Figure size 432x288 with 1 Axes>"
      ]
     },
     "metadata": {
      "needs_background": "light"
     },
     "output_type": "display_data"
    }
   ],
   "source": [
    "plt.plot(train_losses, label = 'Train loss')\n",
    "plt.plot(val_losses, label = 'Val loss')\n",
    "plt.xlabel('epochs')\n",
    "plt.ylabel('losses')\n",
    "plt.grid()\n",
    "plt.legend()\n",
    "plt.show()"
   ]
  },
  {
   "cell_type": "code",
   "execution_count": 83,
   "metadata": {},
   "outputs": [
    {
     "data": {
      "image/png": "[encoded data removed]",
      "text/plain": [
       "<Figure size 432x288 with 1 Axes>"
      ]
     },
     "metadata": {
      "needs_background": "light"
     },
     "output_type": "display_data"
    }
   ],
   "source": [
    "plt.plot(accuracy, label='Accuracy score')\n",
    "plt.xlabel('epochs')\n",
    "plt.ylabel('score')\n",
    "plt.grid()\n",
    "plt.legend()\n",
    "plt.show()"
   ]
  },
  {
   "cell_type": "code",
   "execution_count": 13,
   "metadata": {},
   "outputs": [],
   "source": [
    "def test_model(model, test_loader):\n",
    "    \"\"\"\n",
    "    Вход: модель и даталоадер\n",
    "    Выход: accuracy score на данных из даталоадера\n",
    "    \"\"\"\n",
    "    model.eval()\n",
    "    with torch.no_grad():\n",
    "        preds = np.empty(0)\n",
    "        labels = np.empty(0)\n",
    "        for X, y in tqdm(test_loader):\n",
    "            X, y = X.to(device), y.to(device)\n",
    "            y_pred = model(X)\n",
    "            preds = np.concatenate((preds, y_pred.max(1)[1].cpu()))\n",
    "            labels = np.concatenate((labels, y.cpu()))\n",
    "    return accuracy_score(labels, preds)"
   ]
  },
  {
   "cell_type": "code",
   "execution_count": 16,
   "metadata": {},
   "outputs": [
    {
     "data": {
      "text/plain": [
       "<All keys matched successfully>"
      ]
     },
     "execution_count": 16,
     "metadata": {},
     "output_type": "execute_result"
    }
   ],
   "source": [
    "net.load_state_dict(torch.load('epoch_3.pth'))  # загружаю веса самой удачной четвертой эпохи"
   ]
  },
  {
   "cell_type": "code",
   "execution_count": 17,
   "metadata": {},
   "outputs": [
    {
     "name": "stderr",
     "output_type": "stream",
     "text": [
      "100%|████████████████████████████████████████████████████████████████████████████████| 151/151 [01:23<00:00,  1.81it/s]\n"
     ]
    },
    {
     "data": {
      "text/plain": [
       "0.9916011198506866"
      ]
     },
     "execution_count": 17,
     "metadata": {},
     "output_type": "execute_result"
    }
   ],
   "source": [
    "test_model(net, testloader)  # считаем метрику на тестовых данных"
   ]
  }
 ],
 "metadata": {
  "accelerator": "GPU",
  "colab": {
   "collapsed_sections": [],
   "name": "with csv.ipynb",
   "provenance": []
  },
  "kernelspec": {
   "display_name": "Python 3",
   "language": "python",
   "name": "python3"
  },
  "language_info": {
   "codemirror_mode": {
    "name": "ipython",
    "version": 3
   },
   "file_extension": ".py",
   "mimetype": "text/x-python",
   "name": "python",
   "nbconvert_exporter": "python",
   "pygments_lexer": "ipython3",
   "version": "3.7.6"
  },
  "widgets": {
   "application/vnd.jupyter.widget-state+json": {
    "50df43c719c44f3cb1b1484c9b1ad716": {
     "model_module": "@jupyter-widgets/controls",
     "model_name": "ProgressStyleModel",
     "state": {
      "_model_module": "@jupyter-widgets/controls",
      "_model_module_version": "1.5.0",
      "_model_name": "ProgressStyleModel",
      "_view_count": null,
      "_view_module": "@jupyter-widgets/base",
      "_view_module_version": "1.2.0",
      "_view_name": "StyleView",
      "bar_color": null,
      "description_width": "initial"
     }
    },
    "55d71f09845a411da00ffa109664874a": {
     "model_module": "@jupyter-widgets/controls",
     "model_name": "FloatProgressModel",
     "state": {
      "_dom_classes": [],
      "_model_module": "@jupyter-widgets/controls",
      "_model_module_version": "1.5.0",
      "_model_name": "FloatProgressModel",
      "_view_count": null,
      "_view_module": "@jupyter-widgets/controls",
      "_view_module_version": "1.5.0",
      "_view_name": "ProgressView",
      "bar_style": "success",
      "description": "100%",
      "description_tooltip": null,
      "layout": "IPY_MODEL_5ffd57fa282345ef8ce0289fe07abd33",
      "max": 46827520,
      "min": 0,
      "orientation": "horizontal",
      "style": "IPY_MODEL_50df43c719c44f3cb1b1484c9b1ad716",
      "value": 46827520
     }
    },
    "5ffd57fa282345ef8ce0289fe07abd33": {
     "model_module": "@jupyter-widgets/base",
     "model_name": "LayoutModel",
     "state": {
      "_model_module": "@jupyter-widgets/base",
      "_model_module_version": "1.2.0",
      "_model_name": "LayoutModel",
      "_view_count": null,
      "_view_module": "@jupyter-widgets/base",
      "_view_module_version": "1.2.0",
      "_view_name": "LayoutView",
      "align_content": null,
      "align_items": null,
      "align_self": null,
      "border": null,
      "bottom": null,
      "display": null,
      "flex": null,
      "flex_flow": null,
      "grid_area": null,
      "grid_auto_columns": null,
      "grid_auto_flow": null,
      "grid_auto_rows": null,
      "grid_column": null,
      "grid_gap": null,
      "grid_row": null,
      "grid_template_areas": null,
      "grid_template_columns": null,
      "grid_template_rows": null,
      "height": null,
      "justify_content": null,
      "justify_items": null,
      "left": null,
      "margin": null,
      "max_height": null,
      "max_width": null,
      "min_height": null,
      "min_width": null,
      "object_fit": null,
      "object_position": null,
      "order": null,
      "overflow": null,
      "overflow_x": null,
      "overflow_y": null,
      "padding": null,
      "right": null,
      "top": null,
      "visibility": null,
      "width": null
     }
    },
    "938386687d6340dbbabed65b8ca774fd": {
     "model_module": "@jupyter-widgets/controls",
     "model_name": "HBoxModel",
     "state": {
      "_dom_classes": [],
      "_model_module": "@jupyter-widgets/controls",
      "_model_module_version": "1.5.0",
      "_model_name": "HBoxModel",
      "_view_count": null,
      "_view_module": "@jupyter-widgets/controls",
      "_view_module_version": "1.5.0",
      "_view_name": "HBoxView",
      "box_style": "",
      "children": [
       "IPY_MODEL_55d71f09845a411da00ffa109664874a",
       "IPY_MODEL_b3c5f11a6c354b138cd5b8e4577971a2"
      ],
      "layout": "IPY_MODEL_dfe3f06a63624757a0fd03f7bd68bfd8"
     }
    },
    "a3b55fad1c81425fb29711aeb5bce5bc": {
     "model_module": "@jupyter-widgets/controls",
     "model_name": "DescriptionStyleModel",
     "state": {
      "_model_module": "@jupyter-widgets/controls",
      "_model_module_version": "1.5.0",
      "_model_name": "DescriptionStyleModel",
      "_view_count": null,
      "_view_module": "@jupyter-widgets/base",
      "_view_module_version": "1.2.0",
      "_view_name": "StyleView",
      "description_width": ""
     }
    },
    "b3c5f11a6c354b138cd5b8e4577971a2": {
     "model_module": "@jupyter-widgets/controls",
     "model_name": "HTMLModel",
     "state": {
      "_dom_classes": [],
      "_model_module": "@jupyter-widgets/controls",
      "_model_module_version": "1.5.0",
      "_model_name": "HTMLModel",
      "_view_count": null,
      "_view_module": "@jupyter-widgets/controls",
      "_view_module_version": "1.5.0",
      "_view_name": "HTMLView",
      "description": "",
      "description_tooltip": null,
      "layout": "IPY_MODEL_ba025fb250bd40ea9a22b60fc6f377ea",
      "placeholder": "​",
      "style": "IPY_MODEL_a3b55fad1c81425fb29711aeb5bce5bc",
      "value": " 44.7M/44.7M [00:00&lt;00:00, 197MB/s]"
     }
    },
    "ba025fb250bd40ea9a22b60fc6f377ea": {
     "model_module": "@jupyter-widgets/base",
     "model_name": "LayoutModel",
     "state": {
      "_model_module": "@jupyter-widgets/base",
      "_model_module_version": "1.2.0",
      "_model_name": "LayoutModel",
      "_view_count": null,
      "_view_module": "@jupyter-widgets/base",
      "_view_module_version": "1.2.0",
      "_view_name": "LayoutView",
      "align_content": null,
      "align_items": null,
      "align_self": null,
      "border": null,
      "bottom": null,
      "display": null,
      "flex": null,
      "flex_flow": null,
      "grid_area": null,
      "grid_auto_columns": null,
      "grid_auto_flow": null,
      "grid_auto_rows": null,
      "grid_column": null,
      "grid_gap": null,
      "grid_row": null,
      "grid_template_areas": null,
      "grid_template_columns": null,
      "grid_template_rows": null,
      "height": null,
      "justify_content": null,
      "justify_items": null,
      "left": null,
      "margin": null,
      "max_height": null,
      "max_width": null,
      "min_height": null,
      "min_width": null,
      "object_fit": null,
      "object_position": null,
      "order": null,
      "overflow": null,
      "overflow_x": null,
      "overflow_y": null,
      "padding": null,
      "right": null,
      "top": null,
      "visibility": null,
      "width": null
     }
    },
    "dfe3f06a63624757a0fd03f7bd68bfd8": {
     "model_module": "@jupyter-widgets/base",
     "model_name": "LayoutModel",
     "state": {
      "_model_module": "@jupyter-widgets/base",
      "_model_module_version": "1.2.0",
      "_model_name": "LayoutModel",
      "_view_count": null,
      "_view_module": "@jupyter-widgets/base",
      "_view_module_version": "1.2.0",
      "_view_name": "LayoutView",
      "align_content": null,
      "align_items": null,
      "align_self": null,
      "border": null,
      "bottom": null,
      "display": null,
      "flex": null,
      "flex_flow": null,
      "grid_area": null,
      "grid_auto_columns": null,
      "grid_auto_flow": null,
      "grid_auto_rows": null,
      "grid_column": null,
      "grid_gap": null,
      "grid_row": null,
      "grid_template_areas": null,
      "grid_template_columns": null,
      "grid_template_rows": null,
      "height": null,
      "justify_content": null,
      "justify_items": null,
      "left": null,
      "margin": null,
      "max_height": null,
      "max_width": null,
      "min_height": null,
      "min_width": null,
      "object_fit": null,
      "object_position": null,
      "order": null,
      "overflow": null,
      "overflow_x": null,
      "overflow_y": null,
      "padding": null,
      "right": null,
      "top": null,
      "visibility": null,
      "width": null
     }
    }
   }
  }
 },
 "nbformat": 4,
 "nbformat_minor": 1
}
